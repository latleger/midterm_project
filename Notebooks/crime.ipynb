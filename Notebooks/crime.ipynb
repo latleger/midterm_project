{
 "cells": [
  {
   "cell_type": "code",
   "execution_count": 1,
   "id": "c119bca8-6f6a-45b1-a192-7da5d1ee2639",
   "metadata": {
    "tags": []
   },
   "outputs": [],
   "source": [
    "# import data\n",
    "import pandas as pd\n",
    "import json\n"
   ]
  },
  {
   "cell_type": "code",
   "execution_count": 2,
   "id": "513eab46-4431-4471-ada5-3054f848769c",
   "metadata": {
    "tags": []
   },
   "outputs": [
    {
     "data": {
      "text/html": [
       "<div>\n",
       "<style scoped>\n",
       "    .dataframe tbody tr th:only-of-type {\n",
       "        vertical-align: middle;\n",
       "    }\n",
       "\n",
       "    .dataframe tbody tr th {\n",
       "        vertical-align: top;\n",
       "    }\n",
       "\n",
       "    .dataframe thead th {\n",
       "        text-align: right;\n",
       "    }\n",
       "</style>\n",
       "<table border=\"1\" class=\"dataframe\">\n",
       "  <thead>\n",
       "    <tr style=\"text-align: right;\">\n",
       "      <th></th>\n",
       "      <th>crime_type</th>\n",
       "      <th>latitude</th>\n",
       "      <th>longitude</th>\n",
       "    </tr>\n",
       "  </thead>\n",
       "  <tbody>\n",
       "    <tr>\n",
       "      <th>8</th>\n",
       "      <td>DWI</td>\n",
       "      <td>30.260936</td>\n",
       "      <td>-97.736725</td>\n",
       "    </tr>\n",
       "    <tr>\n",
       "      <th>34</th>\n",
       "      <td>BURGLARY OF VEHICLE</td>\n",
       "      <td>30.256806</td>\n",
       "      <td>-97.739177</td>\n",
       "    </tr>\n",
       "    <tr>\n",
       "      <th>35</th>\n",
       "      <td>ASSAULT BY THREAT</td>\n",
       "      <td>30.265842</td>\n",
       "      <td>-97.738592</td>\n",
       "    </tr>\n",
       "    <tr>\n",
       "      <th>39</th>\n",
       "      <td>DATING DISTURBANCE</td>\n",
       "      <td>30.265448</td>\n",
       "      <td>-97.742218</td>\n",
       "    </tr>\n",
       "    <tr>\n",
       "      <th>75</th>\n",
       "      <td>DWI</td>\n",
       "      <td>30.268731</td>\n",
       "      <td>-97.744351</td>\n",
       "    </tr>\n",
       "  </tbody>\n",
       "</table>\n",
       "</div>"
      ],
      "text/plain": [
       "             crime_type   latitude  longitude\n",
       "8                   DWI  30.260936 -97.736725\n",
       "34  BURGLARY OF VEHICLE  30.256806 -97.739177\n",
       "35    ASSAULT BY THREAT  30.265842 -97.738592\n",
       "39   DATING DISTURBANCE  30.265448 -97.742218\n",
       "75                  DWI  30.268731 -97.744351"
      ]
     },
     "execution_count": 2,
     "metadata": {},
     "output_type": "execute_result"
    }
   ],
   "source": [
    "crime_df = pd.read_json(f'https://data.austintexas.gov/resource/74im-wh8j.json?$query=SELECT%0A%20%20%60incident_report_number%60%2C%0A%20%20%60crime_type%60%2C%0A%20%20%60ucr_code%60%2C%0A%20%20%60family_violence%60%2C%0A%20%20%60occ_date_time%60%2C%0A%20%20%60occ_date%60%2C%0A%20%20%60occ_time%60%2C%0A%20%20%60rep_date_time%60%2C%0A%20%20%60rep_date%60%2C%0A%20%20%60rep_time%60%2C%0A%20%20%60location_type%60%2C%0A%20%20%60address%60%2C%0A%20%20%60zip_code%60%2C%0A%20%20%60council_district%60%2C%0A%20%20%60sector%60%2C%0A%20%20%60district%60%2C%0A%20%20%60pra%60%2C%0A%20%20%60census_tract%60%2C%0A%20%20%60clearance_status%60%2C%0A%20%20%60clearance_date%60%2C%0A%20%20%60ucr_category%60%2C%0A%20%20%60category_description%60%2C%0A%20%20%60x_coordinate%60%2C%0A%20%20%60y_coordinate%60%2C%0A%20%20%60latitude%60%2C%0A%20%20%60longitude%60%2C%0A%20%20%60location%60%2C%0A%20%20%60%3A%40computed_region_a3it_2a2z%60%2C%0A%20%20%60%3A%40computed_region_8spj_utxs%60%2C%0A%20%20%60%3A%40computed_region_q9nd_rr82%60%2C%0A%20%20%60%3A%40computed_region_qwte_z96m%60%2C%0A%20%20%60%3A%40computed_region_e9j2_6w3z%60%2C%0A%20%20%60%3A%40computed_region_5gse_m7ik%60')\n",
    "\n",
    "filtered_crime = crime_df[crime_df['zip_code'] == 78701]\n",
    "filtered_crime = filtered_crime[['crime_type', 'latitude', 'longitude']]\n",
    "filtered_crime = filtered_crime.dropna()\n",
    "\n",
    "filtered_crime.head()\n"
   ]
  },
  {
   "cell_type": "code",
   "execution_count": 3,
   "id": "7db4da3f-89a3-4cb2-ad0f-de01887e5404",
   "metadata": {
    "tags": []
   },
   "outputs": [],
   "source": [
    "filtered_crime.to_csv('crime.csv', index=False)"
   ]
  },
  {
   "cell_type": "code",
   "execution_count": null,
   "id": "ebaeb3bb-2519-4cbb-85fe-a86d97e0df8c",
   "metadata": {},
   "outputs": [],
   "source": []
  }
 ],
 "metadata": {
  "kernelspec": {
   "display_name": "LHL Env",
   "language": "python",
   "name": "lhl_env"
  },
  "language_info": {
   "codemirror_mode": {
    "name": "ipython",
    "version": 3
   },
   "file_extension": ".py",
   "mimetype": "text/x-python",
   "name": "python",
   "nbconvert_exporter": "python",
   "pygments_lexer": "ipython3",
   "version": "3.10.9"
  }
 },
 "nbformat": 4,
 "nbformat_minor": 5
}

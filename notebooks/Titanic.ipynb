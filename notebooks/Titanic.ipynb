{
 "cells": [
  {
   "cell_type": "code",
   "execution_count": 1,
   "id": "c37b3a9a-f1d5-4bb8-9a42-d429f18c630a",
   "metadata": {
    "tags": []
   },
   "outputs": [],
   "source": [
    "# import libraries\n",
    "import pandas as pd "
   ]
  },
  {
   "cell_type": "code",
   "execution_count": null,
   "id": "82db7dcf",
   "metadata": {},
   "outputs": [],
   "source": [
    "# libraries\n",
    "train_df = pd.read_csv('train.csv')\n",
    "test_df = pd.read_csv('test.csv')"
   ]
  },
  {
   "cell_type": "code",
   "execution_count": 3,
   "id": "3a294774-3c4c-494f-9233-1dfd24fde7f0",
   "metadata": {
    "tags": []
   },
   "outputs": [
    {
     "name": "stdout",
     "output_type": "stream",
     "text": [
      "<class 'pandas.core.frame.DataFrame'>\n",
      "RangeIndex: 891 entries, 0 to 890\n",
      "Data columns (total 12 columns):\n",
      " #   Column       Non-Null Count  Dtype  \n",
      "---  ------       --------------  -----  \n",
      " 0   PassengerId  891 non-null    int64  \n",
      " 1   Survived     891 non-null    int64  \n",
      " 2   Pclass       891 non-null    int64  \n",
      " 3   Name         891 non-null    object \n",
      " 4   Sex          891 non-null    object \n",
      " 5   Age          714 non-null    float64\n",
      " 6   SibSp        891 non-null    int64  \n",
      " 7   Parch        891 non-null    int64  \n",
      " 8   Ticket       891 non-null    object \n",
      " 9   Fare         891 non-null    float64\n",
      " 10  Cabin        204 non-null    object \n",
      " 11  Embarked     889 non-null    object \n",
      "dtypes: float64(2), int64(5), object(5)\n",
      "memory usage: 83.7+ KB\n"
     ]
    }
   ],
   "source": [
    "train_df.info()"
   ]
  },
  {
   "cell_type": "code",
   "execution_count": 4,
   "id": "f7682512-1210-4eff-8b8e-a9b3a7c780d1",
   "metadata": {
    "tags": []
   },
   "outputs": [
    {
     "name": "stdout",
     "output_type": "stream",
     "text": [
      "<class 'pandas.core.frame.DataFrame'>\n",
      "RangeIndex: 418 entries, 0 to 417\n",
      "Data columns (total 11 columns):\n",
      " #   Column       Non-Null Count  Dtype  \n",
      "---  ------       --------------  -----  \n",
      " 0   PassengerId  418 non-null    int64  \n",
      " 1   Pclass       418 non-null    int64  \n",
      " 2   Name         418 non-null    object \n",
      " 3   Sex          418 non-null    object \n",
      " 4   Age          332 non-null    float64\n",
      " 5   SibSp        418 non-null    int64  \n",
      " 6   Parch        418 non-null    int64  \n",
      " 7   Ticket       418 non-null    object \n",
      " 8   Fare         417 non-null    float64\n",
      " 9   Cabin        91 non-null     object \n",
      " 10  Embarked     418 non-null    object \n",
      "dtypes: float64(2), int64(4), object(5)\n",
      "memory usage: 36.0+ KB\n"
     ]
    }
   ],
   "source": [
    "test_df.info()"
   ]
  },
  {
   "cell_type": "markdown",
   "id": "09c65e6f-3828-4a49-8a47-1cdc0ddd30e0",
   "metadata": {},
   "source": [
    "In both the train_df and test_df, the Age column had significant Null values. Since I believe this is an important piece of information, I choose to use the mean of all ages instead of using 0."
   ]
  },
  {
   "cell_type": "code",
   "execution_count": 5,
   "id": "99f70b11-32a9-4a16-a6f8-dfbcf1abe683",
   "metadata": {
    "tags": []
   },
   "outputs": [
    {
     "data": {
      "text/plain": [
       "29"
      ]
     },
     "execution_count": 5,
     "metadata": {},
     "output_type": "execute_result"
    }
   ],
   "source": [
    "# Calculate the mean of the column\n",
    "mean_train = train_df['Age'].mean()\n",
    "mean_train = int(mean_train)\n",
    "mean_train"
   ]
  },
  {
   "cell_type": "code",
   "execution_count": 6,
   "id": "17e38544-95d3-4bbf-8cf2-4eb07837eb05",
   "metadata": {
    "tags": []
   },
   "outputs": [
    {
     "data": {
      "text/plain": [
       "30"
      ]
     },
     "execution_count": 6,
     "metadata": {},
     "output_type": "execute_result"
    }
   ],
   "source": [
    "# Calculate the mean of the column\n",
    "mean_test = test_df['Age'].mean()\n",
    "mean_test = int(mean_test)\n",
    "mean_test"
   ]
  },
  {
   "cell_type": "code",
   "execution_count": 7,
   "id": "41344e97-9b17-48c4-af81-ce3b26aa19ec",
   "metadata": {
    "tags": []
   },
   "outputs": [],
   "source": [
    "train_df['Age'] = train_df['Age'].fillna(29)\n",
    "test_df['Age'] = test_df['Age'].fillna(30)"
   ]
  },
  {
   "cell_type": "markdown",
   "id": "088af307-037d-4c28-bce5-c826c8acfe09",
   "metadata": {},
   "source": [
    "In both the train_df and test_df, the Embarked column had some Null values. Since I believe this is an important piece of information, I choose to use the most common value."
   ]
  },
  {
   "cell_type": "code",
   "execution_count": 8,
   "id": "3de7532c-0175-4350-85e9-a906c8982645",
   "metadata": {
    "tags": []
   },
   "outputs": [
    {
     "data": {
      "text/plain": [
       "count     889\n",
       "unique      3\n",
       "top         S\n",
       "freq      644\n",
       "Name: Embarked, dtype: object"
      ]
     },
     "execution_count": 8,
     "metadata": {},
     "output_type": "execute_result"
    }
   ],
   "source": [
    "train_df['Embarked'].describe()"
   ]
  },
  {
   "cell_type": "code",
   "execution_count": 9,
   "id": "966f7b9d-77f0-4bdf-9182-f45089caf592",
   "metadata": {
    "tags": []
   },
   "outputs": [
    {
     "data": {
      "text/plain": [
       "count     418\n",
       "unique      3\n",
       "top         S\n",
       "freq      270\n",
       "Name: Embarked, dtype: object"
      ]
     },
     "execution_count": 9,
     "metadata": {},
     "output_type": "execute_result"
    }
   ],
   "source": [
    "test_df['Embarked'].describe()"
   ]
  },
  {
   "cell_type": "code",
   "execution_count": 10,
   "id": "948a2804-7ba2-41a5-b25a-4aa468436d3e",
   "metadata": {
    "tags": []
   },
   "outputs": [],
   "source": [
    "train_df['Embarked'] = train_df['Embarked'].fillna('S')\n",
    "test_df['Embarked'] = test_df['Embarked'].fillna('S')"
   ]
  },
  {
   "cell_type": "markdown",
   "id": "e656d2c8-daa4-4724-95b4-6aa42fd4f5c7",
   "metadata": {},
   "source": [
    "Dropped insignificant columns"
   ]
  },
  {
   "cell_type": "code",
   "execution_count": 11,
   "id": "b1ae8cca-b7fd-4ecf-bb91-225260962914",
   "metadata": {
    "tags": []
   },
   "outputs": [],
   "source": [
    "# drop columns\n",
    "train_df = train_df.drop(['Cabin'], axis=1)\n",
    "test_df = test_df.drop(['Cabin'], axis=1)"
   ]
  },
  {
   "cell_type": "code",
   "execution_count": null,
   "id": "7c3871b2-d482-4729-8d53-e481b8482fa4",
   "metadata": {
    "tags": []
   },
   "outputs": [],
   "source": []
  },
  {
   "cell_type": "code",
   "execution_count": null,
   "id": "ddf3eeda-1740-4feb-9e8f-994708dbb5ab",
   "metadata": {},
   "outputs": [],
   "source": []
  },
  {
   "cell_type": "code",
   "execution_count": null,
   "id": "f9651843-ce6e-44be-857f-555394e61934",
   "metadata": {},
   "outputs": [],
   "source": []
  },
  {
   "cell_type": "code",
   "execution_count": null,
   "id": "590d7483-45a6-424a-b51e-7f336fda9a89",
   "metadata": {},
   "outputs": [],
   "source": []
  },
  {
   "cell_type": "code",
   "execution_count": null,
   "id": "cf8b66af-3925-461a-9529-4340535650bc",
   "metadata": {},
   "outputs": [],
   "source": []
  }
 ],
 "metadata": {
  "kernelspec": {
   "display_name": "base",
   "language": "python",
   "name": "python3"
  },
  "language_info": {
   "codemirror_mode": {
    "name": "ipython",
    "version": 3
   },
   "file_extension": ".py",
   "mimetype": "text/x-python",
   "name": "python",
   "nbconvert_exporter": "python",
   "pygments_lexer": "ipython3",
   "version": "3.10.10"
  }
 },
 "nbformat": 4,
 "nbformat_minor": 5
}
